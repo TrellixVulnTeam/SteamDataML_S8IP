{
 "cells": [
  {
   "cell_type": "code",
   "execution_count": 27,
   "outputs": [],
   "source": [
    "import numpy as np\n",
    "import pandas as pd\n",
    "import matplotlib.pyplot as plt\n",
    "import seaborn as sns\n",
    "from sklearn.model_selection import train_test_split"
   ],
   "metadata": {
    "collapsed": false,
    "pycharm": {
     "name": "#%%\n",
     "is_executing": false
    }
   }
  },
  {
   "cell_type": "markdown",
   "source": [
    "DATA CLEAN"
   ],
   "metadata": {
    "collapsed": false
   }
  },
  {
   "cell_type": "code",
   "execution_count": null,
   "outputs": [],
   "source": [
    "df = pd.read_csv(\"../dataset/games-features.csv\")\n",
    "if(df.isnull().values.any()):\n",
    "    df.dropna(inplace=True)#null degerler silindi\n",
    "df=df.drop(['QueryID',\n",
    "         'DeveloperCount',\n",
    "         'PackageCount','SteamSpyOwnersVariance','SteamSpyPlayersEstimate','SteamSpyPlayersVariance',\n",
    "         'PublisherCount','AchievementHighlightedCount','PriceCurrency','Background',\n",
    "         'DetailedDescrip','DRMNotice','ExtUserAcctNotice','HeaderImage','LegalNotice'],axis=1)\n",
    "df = df.drop(\"QueryName\", axis=1)\n",
    "df = df.rename(columns={\"ResponseName\": \"AppName\"})\n",
    "df = df.drop(\"ResponseID\", axis=1)\n",
    "df = df.rename(columns={\"ResponseID\": \"AppID\"})\n",
    "df = df.rename(columns={\"MovieCount\": \"GameTrailerCount\"})\n",
    "df = df.rename(columns={\"SteamSpyOwners\": \"UserCount\"})\n",
    "df['Email']=df.SupportEmail==\" \"\n",
    "df = df.drop(\"SupportEmail\", axis=1)\n",
    "df['Websites']=df.Website==\" \"\n",
    "df = df.drop(\"Website\", axis=1)\n",
    "df.info()"
   ],
   "metadata": {
    "collapsed": false,
    "pycharm": {
     "name": "#%%\n"
    }
   }
  },
  {
   "cell_type": "code",
   "execution_count": null,
   "outputs": [],
   "source": [
    "print(\"Toplam oyun sayısı : {0}\".format(len(df.AppName.unique())))\n",
    "dfNonZeroMetacritic = df[df.Metacritic != 0]\n",
    "print(\"Ortalama metacritix : {0}\".format(dfNonZeroMetacritic.Metacritic.mean()))\n",
    "dfNonPrice = df[df.PriceFinal != 0]\n",
    "print(\"Ortalama fiyat $ : {0}\".format(dfNonZeroMetacritic.PriceFinal.mean()))"
   ],
   "metadata": {
    "collapsed": false,
    "pycharm": {
     "name": "#%%\n"
    }
   }
  },
  {
   "cell_type": "markdown",
   "source": [
    "DATA2 CLEAN"
   ],
   "metadata": {
    "collapsed": false
   }
  },
  {
   "cell_type": "code",
   "execution_count": null,
   "outputs": [],
   "source": [
    "df200kPlayer= pd.read_csv(\"../dataset/steam-200k.csv\",names=['UserID', 'Game', 'Action', 'Hours', 'Other'])\n",
    "df200kPlayer=df200kPlayer [df200kPlayer .Action != 'purchase']# satın alma verisi silindi\n",
    "df200kPlayer.info()\n",
    "df200kPlayer.isnull().values.any()\n",
    "if(df.isnull().values.any()):\n",
    "    df.dropna(inplace=True)#null degerler silindi"
   ],
   "metadata": {
    "collapsed": false,
    "pycharm": {
     "name": "#%%\n"
    }
   }
  },
  {
   "cell_type": "code",
   "execution_count": null,
   "outputs": [],
   "source": [
    "print(\"Toplam oyun sayısı : {0}\".format(len(df200kPlayer.Game.unique())))\n",
    "print(\"Toplam kullanıcı sayısı: {0}\".format(len(df200kPlayer.UserID.unique())))"
   ],
   "metadata": {
    "collapsed": false,
    "pycharm": {
     "name": "#%%\n"
    }
   }
  },
  {
   "cell_type": "markdown",
   "source": [
    "DATA VISUALIZATION"
   ],
   "metadata": {
    "collapsed": false,
    "pycharm": {
     "name": "#%% md\n"
    }
   }
  },
  {
   "cell_type": "code",
   "execution_count": null,
   "outputs": [],
   "source": [
    "figsize=(12,8)"
   ],
   "metadata": {
    "collapsed": false,
    "pycharm": {
     "name": "#%%\n"
    }
   }
  },
  {
   "cell_type": "code",
   "execution_count": null,
   "outputs": [],
   "source": [
    "Genres_names=['GenreIsAction','GenreIsIndie','GenreIsAdventure',\n",
    "'GenreIsCasual',\n",
    "'GenreIsStrategy',\n",
    "'GenreIsRPG',\n",
    "'GenreIsSimulation',\n",
    "'GenreIsEarlyAccess',\n",
    "'GenreIsFreeToPlay',\n",
    "'GenreIsRacing',\n",
    "'GenreIsSports',\n",
    "'GenreIsMassivelyMultiplayer',\n",
    "'GenreIsNonGame']"
   ],
   "metadata": {
    "collapsed": false,
    "pycharm": {
     "name": "#%%\n"
    }
   }
  },
  {
   "cell_type": "code",
   "execution_count": null,
   "outputs": [],
   "source": [
    "GenreIsAction=df.index[df['GenreIsAction'] == True].tolist()\n",
    "GenreIsIndie = df.index[df['GenreIsIndie'] == True].tolist()\n",
    "GenreIsAdventure=df.index[df['GenreIsAdventure'] == True].tolist()\n",
    "GenreIsCasual=df.index[df['GenreIsCasual'] == True].tolist()\n",
    "GenreIsStrategy=df.index[df['GenreIsStrategy'] == True].tolist()\n",
    "GenreIsRPG=df.index[df['GenreIsRPG'] == True].tolist()\n",
    "GenreIsSimulation=df.index[df['GenreIsSimulation'] == True].tolist()\n",
    "GenreIsEarlyAccess=df.index[df['GenreIsEarlyAccess'] == True].tolist()\n",
    "GenreIsFreeToPlay=df.index[df['GenreIsFreeToPlay'] == True].tolist()\n",
    "GenreIsRacing=df.index[df['GenreIsRacing'] == True].tolist()\n",
    "GenreIsSports=df.index[df['GenreIsSports'] == True].tolist()\n",
    "GenreIsMassivelyMultiplayer=df.index[df['GenreIsMassivelyMultiplayer'] == True].tolist()\n",
    "GenreIsNonGame=df.index[df['GenreIsNonGame'] == True].tolist()\n",
    "\n",
    "Genres=[GenreIsAction,GenreIsIndie,GenreIsAdventure,\n",
    "GenreIsCasual,\n",
    "GenreIsStrategy,\n",
    "GenreIsRPG,\n",
    "GenreIsSimulation,\n",
    "GenreIsEarlyAccess,\n",
    "GenreIsFreeToPlay,\n",
    "GenreIsRacing,\n",
    "GenreIsSports,\n",
    "GenreIsMassivelyMultiplayer,\n",
    "GenreIsNonGame]"
   ],
   "metadata": {
    "collapsed": false,
    "pycharm": {
     "name": "#%%\n"
    }
   }
  },
  {
   "cell_type": "code",
   "execution_count": null,
   "outputs": [],
   "source": [
    "meta=[]\n",
    "ort=[]\n",
    "oyuncu=[]\n",
    "oyuncu_ort=[]\n",
    "fiyat_ort=[]\n",
    "fiyat=[]\n",
    "for i in range(len(Genres)):\n",
    "    for j in Genres[i]:\n",
    "    \n",
    "        if df['Metacritic'][j] >0 and df['PriceInitial'][j] > 0:\n",
    "            \n",
    "            meta.append(df['Metacritic'][j])\n",
    "            oyuncu.append(df['UserCount'][j])\n",
    "            fiyat.append((df['PriceInitial'][j]))\n",
    "    ort.append(np.mean(meta))\n",
    "    oyuncu_ort.append(np.mean(oyuncu))\n",
    "    fiyat_ort.append(np.mean(fiyat))"
   ],
   "metadata": {
    "collapsed": false,
    "pycharm": {
     "name": "#%%\n"
    }
   }
  },
  {
   "cell_type": "code",
   "execution_count": null,
   "outputs": [],
   "source": [
    "ort_df=pd.DataFrame(list(zip(oyuncu_ort, ort ,fiyat_ort)),\n",
    "              columns=['oyuncu sayısı','metacritic','fiyat' ], index=Genres_names)"
   ],
   "metadata": {
    "collapsed": false,
    "pycharm": {
     "name": "#%%\n"
    }
   }
  },
  {
   "cell_type": "code",
   "execution_count": null,
   "outputs": [],
   "source": [
    "ort_df.drop(['oyuncu sayısı'], axis=1).plot(kind='bar', legend=False, title=\"Mean price and metacritic Score by Genre\",figsize=figsize)"
   ],
   "metadata": {
    "collapsed": false,
    "pycharm": {
     "name": "#%%\n"
    }
   }
  },
  {
   "cell_type": "code",
   "execution_count": null,
   "outputs": [],
   "source": [
    "ort_df.drop(['oyuncu sayısı','metacritic'], axis=1).plot(kind='bar', legend=False, title=\"Mean Price  by Genre\",figsize=figsize)"
   ],
   "metadata": {
    "collapsed": false,
    "pycharm": {
     "name": "#%%\n"
    }
   }
  },
  {
   "cell_type": "code",
   "execution_count": null,
   "outputs": [],
   "source": [
    "ort_df.drop(['oyuncu sayısı','fiyat'], axis=1).plot(kind='bar', legend=False, title=\"Mean Metacritic Score by Genre\",figsize=figsize)"
   ],
   "metadata": {
    "collapsed": false,
    "pycharm": {
     "name": "#%%\n"
    }
   }
  },
  {
   "cell_type": "code",
   "execution_count": null,
   "outputs": [],
   "source": [
    "total_user_game = df200kPlayer.groupby('Game')['UserID'].agg('count').sort_values(ascending=False)[0:20] #oyun ismine göre kaç kullanıcı oldugunu gruplandı\n",
    "total_user_game"
   ],
   "metadata": {
    "collapsed": false,
    "pycharm": {
     "name": "#%%\n"
    }
   }
  },
  {
   "cell_type": "code",
   "execution_count": null,
   "outputs": [],
   "source": [
    "total_hours = df200kPlayer.groupby('Game')['Hours'].agg(np.sum).sort_values(ascending=False)[0:20]#oynama saatleri\n",
    "total_hours"
   ],
   "metadata": {
    "collapsed": false,
    "pycharm": {
     "name": "#%%\n"
    }
   }
  },
  {
   "cell_type": "code",
   "execution_count": null,
   "outputs": [],
   "source": [
    "total_user_game = pd.DataFrame({'game': total_user_game.index, 'total user game': total_user_game.values})\n",
    "total_hours = pd.DataFrame({'game': total_hours.index, 'total time': total_hours.values})\n",
    "fig, ax =plt.subplots(1,2,figsize=(12,15))\n",
    "sns.barplot(y = 'game', x = 'total user game', data = total_user_game, ax=ax[0])\n",
    "sns.barplot(y = 'game', x = 'total time', data = total_hours, ax=ax[1])\n",
    "ax[0].set(xlabel='Oyuncu sayısı', ylabel='Oyun ismi')\n",
    "ax[1].set(xlabel='Toplam oynanan saat', ylabel='Oyun ismi')\n",
    "ax[1].yaxis.tick_right()\n",
    "ax[1].yaxis.set_label_position(\"right\")\n",
    "for i in range(0,2):\n",
    "    ax[i].tick_params(axis='y', labelsize=18)\n",
    "    ax[i].xaxis.label.set_size(20)"
   ],
   "metadata": {
    "collapsed": false,
    "pycharm": {
     "name": "#%%\n"
    }
   }
  },
  {
   "cell_type": "code",
   "execution_count": null,
   "outputs": [],
   "source": [
    "fig, ax =plt.subplots(1,2,figsize=figsize)\n",
    "df.groupby(['PlatformLinux','PlatformWindows','PlatformMac'])['AppName'].size().plot(kind='bar',ax=ax[0])\n",
    "df.groupby(['CategorySinglePlayer','CategoryMultiplayer'])['AppName'].size().plot(kind='bar',ax=ax[1])\n",
    "ax[0].set(ylabel='Oyun ismi')\n",
    "ax[1].set(ylabel='Oyun ismi')"
   ],
   "metadata": {
    "collapsed": false,
    "pycharm": {
     "name": "#%%\n"
    }
   }
  },
  {
   "cell_type": "markdown",
   "source": [
    "PREDICT"
   ],
   "metadata": {
    "collapsed": false,
    "pycharm": {
     "name": "#%% md\n"
    }
   }
  },
  {
   "cell_type": "code",
   "execution_count": null,
   "outputs": [],
   "source": [
    "data = df.copy()\n",
    "data=data.select_dtypes(exclude=['object'])\n",
    "data = data[data.Metacritic != 0]\n",
    "data = data[data.IsFree != True]\n",
    "y=data[\"PriceFinal\"]\n",
    "X=data.drop([\"PriceFinal\",\"PriceInitial\"],axis=1)\n",
    "X=pd.DataFrame(X)\n",
    "X_train,X_test,y_train,y_test=train_test_split(X,y,test_size=0.15,random_state=42)"
   ],
   "metadata": {
    "collapsed": false,
    "pycharm": {
     "name": "#%%\n"
    }
   }
  },
  {
   "cell_type": "code",
   "execution_count": null,
   "outputs": [],
   "source": [
    "from sklearn.ensemble import RandomForestRegressor\n",
    "from sklearn.metrics import accuracy_score,classification_report\n",
    "rf_params={\"max_depth\":[2,5,8,10,12],\n",
    "          \"max_features\":[2,5,8,10,12,15],\n",
    "          \"n_estimators\": [10,50,200,500],\n",
    "          \"min_samples_split\":[5,10,20,50]}\n",
    "rf_model=RandomForestRegressor()\n",
    "\n",
    "rf_cv_model= GridSearchCV(rf_model,\n",
    "                         rf_params,\n",
    "                         cv=10,\n",
    "                         n_jobs=-1,\n",
    "                         verbose=5)\n",
    "rf_cv_model.fit(X_train,y_train)"
   ],
   "metadata": {
    "collapsed": false,
    "pycharm": {
     "name": "#%%\n"
    }
   }
  },
  {
   "cell_type": "code",
   "execution_count": null,
   "outputs": [],
   "source": [
    "print(\"best params\"+str(rf_cv_model.best_params_))"
   ],
   "metadata": {
    "collapsed": false,
    "pycharm": {
     "name": "#%%\n"
    }
   }
  },
  {
   "cell_type": "code",
   "execution_count": null,
   "outputs": [],
   "source": [
    "rf_tuned=RandomForestRegressor(max_depth=12,\n",
    "                               max_features=8,\n",
    "                               min_samples_split=5,\n",
    "                               n_estimators=200)\n",
    "rf_tuned.fit(X_train,y_train)"
   ],
   "metadata": {
    "collapsed": false,
    "pycharm": {
     "name": "#%%\n"
    }
   }
  },
  {
   "cell_type": "code",
   "execution_count": null,
   "outputs": [],
   "source": [
    "y_pred_test =rf_tuned.predict(X_test)\n",
    "y_pred_train =rf_tuned.predict(X_train)\n",
    "rf_tuned.score(X_test, y_test)"
   ],
   "metadata": {
    "collapsed": false,
    "pycharm": {
     "name": "#%%\n"
    }
   }
  },
  {
   "cell_type": "code",
   "execution_count": null,
   "outputs": [],
   "source": [
    "from sklearn.metrics import mean_squared_error \n",
    "mean_squared_error(y_test,y_pred_test)"
   ],
   "metadata": {
    "collapsed": false,
    "pycharm": {
     "name": "#%%\n"
    }
   }
  },
  {
   "cell_type": "code",
   "execution_count": null,
   "outputs": [],
   "source": [
    "mean_squared_error(y_train,y_pred_train) "
   ],
   "metadata": {
    "collapsed": false,
    "pycharm": {
     "name": "#%%\n"
    }
   }
  },
  {
   "cell_type": "code",
   "execution_count": null,
   "outputs": [],
   "source": [
    "importances = rf_tuned.feature_importances_\n",
    "indices = np.argsort(importances)[-6:]\n",
    "indices\n",
    "#en basariyi tahminler\n",
    "columns_list=[]\n",
    "columns_list=df.columns\n",
    "columns_list[indices]"
   ],
   "metadata": {
    "collapsed": false,
    "pycharm": {
     "name": "#%%\n"
    }
   }
  },
  {
   "cell_type": "code",
   "execution_count": null,
   "outputs": [],
   "source": [
    "ig, axs = plt.subplots(2, 3)\n",
    "axs[0, 0].scatter(df.PriceFinal, df.DLCCount)\n",
    "axs[0, 0].set_title('Axis [0,0]')\n",
    "axs[0, 1].scatter(df.PriceFinal, df.DemoCount)\n",
    "axs[0, 1].set_title('Axis [0,1]')\n",
    "axs[0, 2].scatter(df.PriceFinal, df.ScreenshotCount)\n",
    "axs[0, 2].set_title('Axis [0,2]')\n",
    "axs[1, 0].scatter(df.PriceFinal, df.Metacritic)\n",
    "axs[1, 0].set_title('Axis [1,0]')\n",
    "axs[1, 1].scatter(df.PriceFinal, df.RequiredAge)\n",
    "axs[1, 1].set_title('Axis [2,0]')\n",
    "axs[1, 2].scatter(df.PriceFinal, df.RecommendationCount)\n",
    "axs[1, 2].set_title('Axis [2,0]')\n",
    "\n",
    "for ax in axs.flat:\n",
    "    ax.set(xlabel='x-label', ylabel='y-label')\n",
    "\n",
    "# Hide x labels and tick labels for top plots and y ticks for right plots.\n",
    "for ax in axs.flat:\n",
    "    ax.label_outer()"
   ],
   "metadata": {
    "collapsed": false,
    "pycharm": {
     "name": "#%%\n"
    }
   }
  },
  {
   "cell_type": "code",
   "execution_count": null,
   "outputs": [],
   "source": [
    "for i in range(100):\n",
    "\n",
    "    print(rf_tuned.predict([X_test.iloc[i]]))\n",
    "    print(y_test.iloc[i])"
   ],
   "metadata": {
    "collapsed": false,
    "pycharm": {
     "name": "#%%\n"
    }
   }
  }
 ],
 "metadata": {
  "language_info": {
   "codemirror_mode": {
    "name": "ipython",
    "version": 2
   },
   "file_extension": ".py",
   "mimetype": "text/x-python",
   "name": "python",
   "nbconvert_exporter": "python",
   "pygments_lexer": "ipython2",
   "version": "2.7.6"
  },
  "kernelspec": {
   "name": "python3",
   "language": "python",
   "display_name": "Python 3"
  },
  "pycharm": {
   "stem_cell": {
    "cell_type": "raw",
    "source": [],
    "metadata": {
     "collapsed": false
    }
   }
  }
 },
 "nbformat": 4,
 "nbformat_minor": 0
}